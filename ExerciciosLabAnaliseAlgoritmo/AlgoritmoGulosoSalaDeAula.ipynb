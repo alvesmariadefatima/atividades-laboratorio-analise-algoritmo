{
  "nbformat": 4,
  "nbformat_minor": 0,
  "metadata": {
    "colab": {
      "provenance": []
    },
    "kernelspec": {
      "name": "python3",
      "display_name": "Python 3"
    },
    "language_info": {
      "name": "python"
    }
  },
  "cells": [
    {
      "cell_type": "code",
      "execution_count": 24,
      "metadata": {
        "colab": {
          "base_uri": "https://localhost:8080/"
        },
        "id": "sGfEwcreAv7D",
        "outputId": "372e157c-08eb-4b42-e1a4-5f6b241c0333"
      },
      "outputs": [
        {
          "output_type": "stream",
          "name": "stdout",
          "text": [
            "Atividades atribuídas a salas:\n",
            "Sala 1: [(1, 3), (4, 6)]\n",
            "\n",
            "Outras atividades atribuídas a salas:\n",
            "Sala 1: [(2, 5)]\n",
            "Sala 2: [(4, 6)]\n"
          ]
        }
      ],
      "source": [
        "def aloca_salas(atividades):\n",
        "    # Ordena as atividades pelo horário de início crescente\n",
        "    atividades.sort(key=lambda x: x[0])\n",
        "\n",
        "    salas = []  # Lista de salas atribuídas às atividades\n",
        "\n",
        "    for atividade in atividades:\n",
        "        inicio, fim = atividade\n",
        "        alocado = False\n",
        "        for sala in salas:\n",
        "            ultima_atividade = sala[-1]\n",
        "            if ultima_atividade[1] <= inicio:\n",
        "                sala.append(atividade)\n",
        "                alocado = True\n",
        "                break\n",
        "        if not alocado:\n",
        "            salas.append([atividade])\n",
        "\n",
        "    return salas\n",
        "\n",
        "# Exemplo de uso revisado:\n",
        "atividades = [(1, 3), (4, 6)]\n",
        "salas_aulas = aloca_salas(atividades)\n",
        "print(\"Atividades atribuídas a salas:\")\n",
        "for i, sala in enumerate(salas_aulas):\n",
        "    print(f\"Sala {i + 1}: {sala}\")\n",
        "\n",
        "# Exemplo de uso adicional:\n",
        "outras_atividades = [(2, 5), (4, 6)]\n",
        "outras_salas = aloca_salas(outras_atividades)\n",
        "print(\"\\nOutras atividades atribuídas a salas:\")\n",
        "for i, sala in enumerate(outras_salas):\n",
        "    print(f\"Sala {i + 1}: {sala}\")"
      ]
    }
  ]
}