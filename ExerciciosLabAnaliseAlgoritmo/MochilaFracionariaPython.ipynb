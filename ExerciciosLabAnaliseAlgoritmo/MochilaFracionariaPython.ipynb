{
  "nbformat": 4,
  "nbformat_minor": 0,
  "metadata": {
    "colab": {
      "provenance": []
    },
    "kernelspec": {
      "name": "python3",
      "display_name": "Python 3"
    },
    "language_info": {
      "name": "python"
    }
  },
  "cells": [
    {
      "cell_type": "code",
      "execution_count": null,
      "metadata": {
        "id": "zWUbcsrA78gh"
      },
      "outputs": [],
      "source": [
        "def fractional_knapsack(capacidade, calorias, proteinas):\n",
        "    def knapsack_recursive(capacidade_restante, index):\n",
        "        if index == len(calorias) or capacidade_restante == 0:\n",
        "            return 0, []\n",
        "\n",
        "        if calorias[index] > capacidade_restante:\n",
        "            return knapsack_recursive(capacidade_restante, index + 1)\n",
        "\n",
        "        incluir_proxima, solucao_incluir = knapsack_recursive(capacidade_restante - calorias[index], index + 1)\n",
        "        incluir_proxima += proteinas[index]\n",
        "\n",
        "        nao_incluir_proxima, solucao_nao_incluir = knapsack_recursive(capacidade_restante, index + 1)\n",
        "\n",
        "        if incluir_proxima > nao_incluir_proxima:\n",
        "            return incluir_proxima, [(1, calorias[index], proteinas[index])] + solucao_incluir\n",
        "        else:\n",
        "            return nao_incluir_proxima, solucao_nao_incluir\n",
        "\n",
        "    quantidade_proteinas_total, solucao = knapsack_recursive(capacidade, 0)\n",
        "    return quantidade_proteinas_total, solucao\n",
        "\n",
        "# Exemplo de uso:\n",
        "capacidade_maxima = 1000  # Limite de calorias\n",
        "calorias = [45, 60, 75, 80, 90, 100, 150, 200, 400]  # Calorias por pote\n",
        "proteinas = [45, 60, 75, 80, 90, 100, 150, 200, 400]  # Proteínas por pote\n",
        "\n",
        "quantidade_proteinas, solucao = fractional_knapsack(capacidade_maxima, calorias, proteinas)\n",
        "\n",
        "print(f\"Quantidade total de proteínas na mochila: {quantidade_proteinas}\")\n",
        "print(\"Solução:\")\n",
        "for fracao, caloria, proteina in solucao:\n",
        "    print(f\"Fração: {fracao}, Calorias: {caloria}, Proteínas: {proteina}\")"
      ]
    }
  ]
}