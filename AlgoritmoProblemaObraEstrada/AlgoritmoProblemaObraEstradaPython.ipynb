{
  "nbformat": 4,
  "nbformat_minor": 0,
  "metadata": {
    "colab": {
      "provenance": []
    },
    "kernelspec": {
      "name": "python3",
      "display_name": "Python 3"
    },
    "language_info": {
      "name": "python"
    }
  },
  "cells": [
    {
      "cell_type": "code",
      "execution_count": null,
      "metadata": {
        "id": "kK7drpv7xzr5"
      },
      "outputs": [],
      "source": [
        "def calculate(L, C, obra):\n",
        "    # Inicializa uma matriz count com zeros\n",
        "    count = [[0] * C for _ in range(L)]\n",
        "\n",
        "    # Inicializa a posição final com 1 se não houver obra\n",
        "    count[L - 1][C - 1] = 1 if not obra(L - 1, C - 1, \"NORTE\") and not obra(L - 1, C - 1, \"LESTE\") else 0\n",
        "\n",
        "    # Preenche a matriz count usando programação dinâmica\n",
        "    for i in range(L - 1, -1, -1):\n",
        "        for j in range(C - 1, -1, -1):\n",
        "            if i < L - 1 and not obra(i, j, \"NORTE\"):\n",
        "                count[i][j] += count[i + 1][j]\n",
        "            if j < C - 1 and not obra(i, j, \"LESTE\"):\n",
        "                count[i][j] += count[i][j + 1]\n",
        "\n",
        "    return count\n",
        "\n",
        "# Dicionário representando a presença de obras em posições específicas\n",
        "obras_em_execucao = {\n",
        "    (0, 1): True,  # Exemplo: há uma obra em (linha 0, coluna 1)\n",
        "    (1, 2): True   # Exemplo: há uma obra em (linha 1, coluna 2)\n",
        "}\n",
        "\n",
        "L = 3  # Número de linhas\n",
        "C = 3 # Número de colunas\n",
        "\n",
        "# Calcular a matriz 'count' usando programação dinâmica\n",
        "count = calculate(L, C, obra)\n",
        "\n",
        "# Exibir a matriz 'count' via terminal\n",
        "for i in range(L):\n",
        "    for j in range(C):\n",
        "        print(count[i][j], end=\" \")  # Imprime o valor da célula com um espaço em branco\n",
        "    print()  # Muda para a próxima linha após exibir uma linha completa"
      ]
    }
  ]
}