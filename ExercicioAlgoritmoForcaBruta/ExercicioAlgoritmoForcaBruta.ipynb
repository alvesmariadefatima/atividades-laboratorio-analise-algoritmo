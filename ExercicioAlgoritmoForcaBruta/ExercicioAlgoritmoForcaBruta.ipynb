{
  "nbformat": 4,
  "nbformat_minor": 0,
  "metadata": {
    "colab": {
      "provenance": []
    },
    "kernelspec": {
      "name": "python3",
      "display_name": "Python 3"
    },
    "language_info": {
      "name": "python"
    }
  },
  "cells": [
    {
      "cell_type": "code",
      "execution_count": null,
      "metadata": {
        "id": "cwDhwKe-syT-"
      },
      "outputs": [],
      "source": [
        "def knapsack_bruteforce(capacidade, pesos, valores, n):\n",
        "    # Função auxiliar recursiva para calcular o valor máximo\n",
        "    def knapsack_recursivo(capacidade_restante, indice_item):\n",
        "        # Caso base: mochila cheia ou todos os itens foram considerados\n",
        "        if capacidade_restante == 0 or indice_item == 0:\n",
        "            return 0\n",
        "\n",
        "        # Se o peso do item atual é maior que a capacidade restante, não pode ser incluído\n",
        "        if pesos[indice_item - 1] > capacidade_restante:\n",
        "            return knapsack_recursivo(capacidade_restante, indice_item - 1)\n",
        "\n",
        "        # Caso contrário, calcular o valor máximo considerando ou não o item atual\n",
        "        incluir_item = valores[indice_item - 1] + knapsack_recursivo(\n",
        "            capacidade_restante - pesos[indice_item - 1], indice_item - 1\n",
        "        )\n",
        "        excluir_item = knapsack_recursivo(capacidade_restante, indice_item - 1)\n",
        "\n",
        "        # Retornar o máximo entre incluir e excluir o item atual\n",
        "        return max(incluir_item, excluir_item)\n",
        "\n",
        "    # Chamada inicial da função recursiva\n",
        "    return knapsack_recursivo(capacidade, n)\n",
        "\n",
        "# Exemplo de uso\n",
        "capacidade_mochila = 40\n",
        "pesos_itens = [6, 7, 8, 9, 11, 13, 15]\n",
        "valores_itens = [5, 6, 7, 8, 16, 18, 20]\n",
        "num_itens = len(pesos_itens)\n",
        "\n",
        "resultado = knapsack_bruteforce(capacidade_mochila, pesos_itens, valores_itens, num_itens)\n",
        "print(\"O valor máximo na mochila é:\", resultado)"
      ]
    }
  ]
}